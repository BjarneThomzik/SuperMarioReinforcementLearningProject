{
 "cells": [
  {
   "cell_type": "code",
   "id": "initial_id",
   "metadata": {
    "collapsed": true
   },
   "source": [
    "from src.non_reinforcement.neuroevolution.neuroevolution_trainer import NeuroevolutionTrainer\n",
    "from src.non_reinforcement.neuroevolution.neuroevolution_net import NeuroevolutionNet\n",
    "from gym_super_mario_bros.actions import RIGHT_ONLY\n",
    "%config InlineBackend.figure_format = 'retina'\n",
    "\n",
    "# Constants\n",
    "CNN_CONFIG = [\n",
    "    {\"out_channels\": 16, \"kernel_size\": 8, \"stride\": 4},\n",
    "    {\"out_channels\": 32, \"kernel_size\": 4, \"stride\": 2},\n",
    "]\n",
    "MLP_CONFIG = [\n",
    "    32 * 9 * 9,  # Must match flattened output of CNN\n",
    "    256,\n",
    "    128,\n",
    "    len(RIGHT_ONLY)\n",
    "]\n",
    "MODEL = NeuroevolutionNet(\n",
    "    input_channels=1,\n",
    "    num_actions=len(RIGHT_ONLY),\n",
    "    cnn_config=CNN_CONFIG,\n",
    "    mlp_config=MLP_CONFIG\n",
    ")\n",
    "ENV_NAME = 'SuperMarioBros-1-1-v0'\n",
    "ACTION_SET = RIGHT_ONLY\n",
    "DEVICE = \"cpu\"\n",
    "DIRECTORY = \"../../runs/neuroevolution/development\"\n",
    "GENERATIONS = 1\n",
    "POPULATION_SIZE = 2\n",
    "MAX_STEPS_PER_EPISODE = 500\n",
    "MUTATION_RATE_RANGE = (0.1, 0.2)\n",
    "MUTATION_STRENGTH_RANGE = (0.05, 0.15)\n",
    "ROULETTE_WHEEL_SELECTION_TEMPERATURE = 1.3\n",
    "ELITISM = 1\n",
    "MUTATION_RATE_SIGMOID_DECAY = {\"a\": 1.0, \"b\": 1.0, \"c\": 1.0}\n",
    "MUTATION_STRENGTH_SIGMOID_DECAY = {\"a\": 1.0, \"b\": 1.0, \"c\": 1.0}\n",
    "\n",
    "trainer = NeuroevolutionTrainer(\n",
    "    base_model=MODEL,\n",
    "    env_name=ENV_NAME,\n",
    "    action_set=ACTION_SET,\n",
    "    device=DEVICE,\n",
    "    directory=DIRECTORY,\n",
    "    generations=GENERATIONS,\n",
    "    population_size=POPULATION_SIZE,\n",
    "    max_steps_per_episode=MAX_STEPS_PER_EPISODE,\n",
    "    mutation_rate_range=MUTATION_RATE_RANGE,\n",
    "    mutation_strength_range=MUTATION_STRENGTH_RANGE,\n",
    "    roulette_wheel_selection_temperature=ROULETTE_WHEEL_SELECTION_TEMPERATURE,\n",
    "    elitism=ELITISM,\n",
    "    mutation_rate_sigmoid_decay=MUTATION_RATE_SIGMOID_DECAY,  # Optional\n",
    "    mutation_strength_sigmoid_decay=MUTATION_STRENGTH_SIGMOID_DECAY  # Optional\n",
    ")\n",
    "\n",
    "#trainer.load_model(\"../../runs/neuroevolution/exploitation_test_1/max_fit_2749__avg_fit_609__env_name_SuperMarioBros-1-1-v0__action_set_5/best_model_2749.0.pt\")\n",
    "trainer.run()\n",
    "trainer.record_best_agent()\n",
    "trainer.save_metrics()\n",
    "trainer.save_best_model()"
   ],
   "outputs": [],
   "execution_count": null
  },
  {
   "metadata": {},
   "cell_type": "code",
   "outputs": [],
   "execution_count": null,
   "source": "",
   "id": "9c609c53b235cfb4"
  }
 ],
 "metadata": {
  "kernelspec": {
   "display_name": "Python 3",
   "language": "python",
   "name": "python3"
  },
  "language_info": {
   "codemirror_mode": {
    "name": "ipython",
    "version": 2
   },
   "file_extension": ".py",
   "mimetype": "text/x-python",
   "name": "python",
   "nbconvert_exporter": "python",
   "pygments_lexer": "ipython2",
   "version": "2.7.6"
  }
 },
 "nbformat": 4,
 "nbformat_minor": 5
}
