{
 "cells": [
  {
   "metadata": {},
   "cell_type": "markdown",
   "source": [
    "### Neuroevolution:\n",
    "- Bild -> preprocessing -> CNN -> MLP -> Eingabe (NES controller)\n",
    "- CNN und MLP basieren auf pytorch\n",
    "- CNN und MLP werden gemeinsam mutiert, die mutation vom agenten der am weitesten kam wird übernommen\n",
    "- Distanz vom Start wird (fürs erste) der einzige reward sein\n",
    "\n",
    "#### ToDo:\n",
    "- Trainingslogik abkapseln (mit Hilfsmethoden?)\n",
    "- Verbesserung der GPU Auslastung (im Moment ist cpu-only schneller!)\n",
    "- Models müssen gespeichert und geladen werden können\n",
    "- Alle relevanten Hyperparameter zur Verfügung stellen (z.B: max_steps, aufbau von cnn und mlp, mutation rate, mutation strength)\n",
    "- Trainingslogik verbessern: Elitismus (behalte die n besten Agenten), dynamische Mutation (z.B: erhöhe Mutationsstärke bei Stillstand)"
   ],
   "id": "9401e06fe8763420"
  },
  {
   "metadata": {
    "ExecuteTime": {
     "end_time": "2025-05-07T18:41:43.035935Z",
     "start_time": "2025-05-07T18:41:26.528900Z"
    }
   },
   "cell_type": "code",
   "source": [
    "import torch\n",
    "from src.non_reinforcement.neuroevolution.neuroevolution_trainer import NeuroevolutionTrainer\n",
    "from src.non_reinforcement.neuroevolution.neuroevolution_net import NeuroevolutionNet\n",
    "from gym_super_mario_bros.actions import COMPLEX_MOVEMENT\n",
    "\n",
    "DEVICE = torch.device(\"cuda\" if torch.cuda.is_available() else \"cpu\")\n",
    "\n",
    "trainer = NeuroevolutionTrainer(\n",
    "    base_model=NeuroevolutionNet(input_channels=1, num_actions=len(COMPLEX_MOVEMENT)),\n",
    "    env_name='SuperMarioBros-v0',\n",
    "    action_set=COMPLEX_MOVEMENT,\n",
    "    device=DEVICE,\n",
    "    video_dir=\"../media/videos\",\n",
    "    generations=5,\n",
    "    population_size=5\n",
    ")\n",
    "\n",
    "trainer.run()\n",
    "trainer.record_best_agent()\n"
   ],
   "id": "c43fe74e977441a5",
   "outputs": [
    {
     "name": "stderr",
     "output_type": "stream",
     "text": [
      "Warning: Gym version v0.24.1 has a number of critical issues with `gym.make` such that environment observation and action spaces are incorrectly evaluated, raising incorrect errors and warning . It is recommend to downgrading to v0.23.1 or upgrading to v0.25.1\n",
      "/Users/babajane/Library/Python/3.9/lib/python/site-packages/gym/envs/registration.py:564: UserWarning: \u001B[33mWARN: The environment SuperMarioBros-v0 is out of date. You should consider upgrading to version `v3`.\u001B[0m\n",
      "  logger.warn(\n"
     ]
    },
    {
     "name": "stdout",
     "output_type": "stream",
     "text": [
      "\n",
      "Generation 1/5\n"
     ]
    },
    {
     "name": "stderr",
     "output_type": "stream",
     "text": [
      "/Users/babajane/Library/Python/3.9/lib/python/site-packages/gym/utils/passive_env_checker.py:97: UserWarning: \u001B[33mWARN: We recommend you to use a symmetric and normalized Box action space (range=[-1, 1]) https://stable-baselines3.readthedocs.io/en/master/guide/rl_tips.html\u001B[0m\n",
      "  logger.warn(\n"
     ]
    },
    {
     "name": "stdout",
     "output_type": "stream",
     "text": [
      "Agent 0 Fitness: 249.00\n",
      "New best agent found! Fitness: 249.00\n",
      "Agent 1 Fitness: 249.00\n",
      "Agent 2 Fitness: 249.00\n",
      "Agent 3 Fitness: 249.00\n",
      "Agent 4 Fitness: 249.00\n",
      "\n",
      "Generation 2/5\n",
      "Agent 0 Fitness: 249.00\n",
      "Agent 1 Fitness: 249.00\n",
      "Agent 2 Fitness: 249.00\n",
      "Agent 3 Fitness: 249.00\n",
      "Agent 4 Fitness: 249.00\n",
      "\n",
      "Generation 3/5\n",
      "Agent 0 Fitness: 249.00\n",
      "Agent 1 Fitness: 249.00\n",
      "Agent 2 Fitness: -90.00\n",
      "Agent 3 Fitness: 249.00\n",
      "Agent 4 Fitness: 249.00\n",
      "\n",
      "Generation 4/5\n",
      "Agent 0 Fitness: 249.00\n",
      "Agent 1 Fitness: 248.00\n",
      "Agent 2 Fitness: 249.00\n",
      "Agent 3 Fitness: 249.00\n",
      "Agent 4 Fitness: 249.00\n",
      "\n",
      "Generation 5/5\n",
      "Agent 0 Fitness: 249.00\n",
      "Agent 1 Fitness: 249.00\n",
      "Agent 2 Fitness: 504.00\n",
      "New best agent found! Fitness: 504.00\n",
      "Agent 3 Fitness: 249.00\n",
      "Agent 4 Fitness: 249.00\n",
      "\n",
      "Running best agent for recording...\n"
     ]
    },
    {
     "name": "stderr",
     "output_type": "stream",
     "text": [
      "/Users/babajane/Library/Python/3.9/lib/python/site-packages/gym/wrappers/record_video.py:75: UserWarning: \u001B[33mWARN: Overwriting existing videos at /Users/babajane/Library/Mobile Documents/com~apple~CloudDocs/realRoot/uni/mac/6Semester/cognitiveComputing/SuperMarioReinforcementLearningProject/media/videos folder (try specifying a different `video_folder` for the `RecordVideo` wrapper if this is not desired)\u001B[0m\n",
      "  logger.warn(\n",
      "/Users/babajane/Library/Python/3.9/lib/python/site-packages/gym/wrappers/monitoring/video_recorder.py:57: DeprecationWarning: \u001B[33mWARN: `env.metadata[\"render.modes\"] is marked as deprecated and will be replaced with `env.metadata[\"render_modes\"]` see https://github.com/openai/gym/pull/2654 for more details\u001B[0m\n",
      "  logger.deprecation(\n",
      "/Users/babajane/Library/Python/3.9/lib/python/site-packages/gym/wrappers/monitoring/video_recorder.py:130: DeprecationWarning: \u001B[33mWARN: `env.metadata[\"video.frames_per_second\"] is marked as deprecated and will be replaced with `env.metadata[\"render_fps\"]` see https://github.com/openai/gym/pull/2654 for more details\u001B[0m\n",
      "  logger.deprecation(\n",
      "/Users/babajane/Library/Python/3.9/lib/python/site-packages/gym/utils/passive_env_checker.py:297: UserWarning: \u001B[33mWARN: No render modes was declared in the environment (env.metadata['render_modes'] is None or not defined), you may have trouble when calling `.render()`\u001B[0m\n",
      "  logger.warn(\n",
      "/Users/babajane/Library/Python/3.9/lib/python/site-packages/gym/utils/passive_env_checker.py:305: UserWarning: \u001B[33mWARN: No render fps was declared in the environment (env.metadata['render_fps'] is None or not defined), rendering may occur at inconsistent fps\u001B[0m\n",
      "  logger.warn(\n"
     ]
    },
    {
     "name": "stdout",
     "output_type": "stream",
     "text": [
      "\n",
      "Final fitness: 504.00\n",
      "Video saved to: ../media/videos\n"
     ]
    }
   ],
   "execution_count": 1
  },
  {
   "metadata": {},
   "cell_type": "code",
   "outputs": [],
   "execution_count": null,
   "source": "",
   "id": "58614bc6557444a9"
  }
 ],
 "metadata": {
  "kernelspec": {
   "display_name": "Python 3",
   "language": "python",
   "name": "python3"
  },
  "language_info": {
   "codemirror_mode": {
    "name": "ipython",
    "version": 2
   },
   "file_extension": ".py",
   "mimetype": "text/x-python",
   "name": "python",
   "nbconvert_exporter": "python",
   "pygments_lexer": "ipython2",
   "version": "2.7.6"
  }
 },
 "nbformat": 4,
 "nbformat_minor": 5
}
