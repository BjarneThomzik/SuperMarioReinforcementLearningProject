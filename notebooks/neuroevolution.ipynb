{
 "cells": [
  {
   "metadata": {},
   "cell_type": "markdown",
   "source": [
    "### Neuroevolution:\n",
    "- Bild -> preprocessing -> CNN -> MLP -> Eingabe (NES controller)\n",
    "- CNN und MLP basieren auf pytorch\n",
    "- CNN und MLP werden gemeinsam mutiert, die mutation vom agenten der am weitesten kam wird übernommen\n",
    "- Distanz vom Start wird (fürs erste) der einzige reward sein\n",
    "\n",
    "#### ToDo:\n",
    "- Dynamische Mutation (z.B: erhöhe Mutationsstärke bei Stillstand, Mutationsstärke und strength werden als intervall übergeben aus der zufällig ein wert genommen wird)\n",
    "- Models müssen gespeichert und geladen werden können\n",
    "- Gespeicherte models nochmal finetunen, testen, überüfen ob die wirklich konstant gute Ergebnisse haben\n",
    "- Pupulationsize und ggf. andere Hyperparameter direkt im plot angeben\n",
    "\n",
    "#### Elitismus:\n",
    "- die n besten agenten bleiben erhalten\n",
    "- wähle gesamt-n agenten mit wheel selection aus (also proportional zur fitness haben fittere agenten eine höhrere w.keit ausgewählt zu werden, vermeide das \"super Agenten\" die w.keitsverteilung zerstören, das rad wird also gewollt oft gedreht und vom sieger wird eine mutation erstellt)\n",
    "- mutiere die gesamt minus n zufällig ausgewählten agenten die dann teil der nächsten generation sind\n",
    "\n",
    "#### Nice to have:\n",
    "- Verbesserung der GPU Auslastung (Hat sich als schwierig herausgestellt, im Moment ist cpu-only schneller!)\n",
    "- Frame skipping um performance zu erhöhen (Auch schwierig hauptlast ist nicht die entscheidung des agenten sondern die laufende mario umgebung)"
   ],
   "id": "9401e06fe8763420"
  },
  {
   "metadata": {},
   "cell_type": "code",
   "source": [
    "import torch\n",
    "from src.non_reinforcement.neuroevolution.neuroevolution_trainer import NeuroevolutionTrainer\n",
    "from src.non_reinforcement.neuroevolution.neuroevolution_net import NeuroevolutionNet\n",
    "from gym_super_mario_bros.actions import COMPLEX_MOVEMENT, SIMPLE_MOVEMENT\n",
    "\n",
    "DEVICE = \"cpu\"  #torch.device(\"cuda\" if torch.cuda.is_available() else \"cpu\")\n",
    "\n",
    "cnn_config = [\n",
    "    {\"out_channels\": 16, \"kernel_size\": 8, \"stride\": 4},\n",
    "    {\"out_channels\": 32, \"kernel_size\": 4, \"stride\": 2},\n",
    "]\n",
    "\n",
    "mlp_config = [\n",
    "    32 * 9 * 9,  # Must match flattened output of CNN\n",
    "    256,\n",
    "    128,\n",
    "    len(SIMPLE_MOVEMENT)\n",
    "]\n",
    "\n",
    "model = NeuroevolutionNet(\n",
    "    input_channels=1,\n",
    "    num_actions=len(SIMPLE_MOVEMENT),\n",
    "    cnn_config=cnn_config,\n",
    "    mlp_config=mlp_config\n",
    ")\n",
    "\n",
    "trainer = NeuroevolutionTrainer(\n",
    "    base_model=model,\n",
    "    env_name='SuperMarioBros-v0',\n",
    "    action_set=SIMPLE_MOVEMENT,\n",
    "    device=DEVICE,\n",
    "    video_dir=\"../media/videos\",\n",
    "    generations=40,\n",
    "    population_size=8,\n",
    "    max_steps_per_episode=1000,\n",
    "    mutation_rate=0.05,\n",
    "    mutation_strength=0.1,\n",
    "    wheel_selection_temperature=0.5,\n",
    "    elitism=2\n",
    ")\n",
    "\n",
    "trainer.run()\n",
    "trainer.record_best_agent()"
   ],
   "id": "c43fe74e977441a5",
   "outputs": [],
   "execution_count": null
  },
  {
   "metadata": {},
   "cell_type": "code",
   "source": "",
   "id": "d5f3a6858c085e35",
   "outputs": [],
   "execution_count": null
  }
 ],
 "metadata": {
  "kernelspec": {
   "display_name": "Python 3",
   "language": "python",
   "name": "python3"
  },
  "language_info": {
   "codemirror_mode": {
    "name": "ipython",
    "version": 2
   },
   "file_extension": ".py",
   "mimetype": "text/x-python",
   "name": "python",
   "nbconvert_exporter": "python",
   "pygments_lexer": "ipython2",
   "version": "2.7.6"
  }
 },
 "nbformat": 4,
 "nbformat_minor": 5
}
