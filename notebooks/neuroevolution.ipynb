{
 "cells": [
  {
   "metadata": {},
   "cell_type": "markdown",
   "source": [
    "### Neuroevolution:\n",
    "- Bild -> preprocessing -> CNN -> MLP -> Eingabe (NES controller)\n",
    "- CNN und MLP basieren auf pytorch\n",
    "- CNN und MLP werden gemeinsam mutiert, die mutation vom agenten der am weitesten kam wird übernommen\n",
    "- Distanz vom Start wird (fürs erste) der einzige reward sein\n",
    "\n",
    "#### ToDo:\n",
    "- Trainingslogik abkapseln (mit Hilfsmethoden?)\n",
    "- Verbesserung der GPU Auslastung (im Moment ist cpu-only schneller!)\n",
    "- Models müssen gespeichert und geladen werden können\n",
    "- Alle relevanten Hyperparameter zur Verfügung stellen (z.B: max_steps, aufbau von cnn und mlp, mutation rate, mutation strength)\n",
    "- Trainingslogik verbessern: Elitismus (behalte die n besten Agenten), dynamische Mutation (z.B: erhöhe Mutationsstärke bei Stillstand)"
   ],
   "id": "9401e06fe8763420"
  },
  {
   "metadata": {},
   "cell_type": "code",
   "source": [
    "import torch\n",
    "from src.non_reinforcement.neuroevolution.neuroevolution_trainer import NeuroevolutionTrainer\n",
    "from src.non_reinforcement.neuroevolution.neuroevolution_net import NeuroevolutionNet\n",
    "from gym_super_mario_bros.actions import COMPLEX_MOVEMENT\n",
    "\n",
    "DEVICE = torch.device(\"cuda\" if torch.cuda.is_available() else \"cpu\")\n",
    "\n",
    "trainer = NeuroevolutionTrainer(\n",
    "    base_model=NeuroevolutionNet(input_channels=1, num_actions=len(COMPLEX_MOVEMENT)),\n",
    "    env_name='SuperMarioBros-v0',\n",
    "    action_set=COMPLEX_MOVEMENT,\n",
    "    device=DEVICE,\n",
    "    video_dir=\"../media/videos\",\n",
    "    generations=5,\n",
    "    population_size=5\n",
    ")\n",
    "\n",
    "trainer.run()\n",
    "trainer.record_best_agent()\n"
   ],
   "id": "c43fe74e977441a5",
   "outputs": [],
   "execution_count": null
  }
 ],
 "metadata": {
  "kernelspec": {
   "display_name": "Python 3",
   "language": "python",
   "name": "python3"
  },
  "language_info": {
   "codemirror_mode": {
    "name": "ipython",
    "version": 2
   },
   "file_extension": ".py",
   "mimetype": "text/x-python",
   "name": "python",
   "nbconvert_exporter": "python",
   "pygments_lexer": "ipython2",
   "version": "2.7.6"
  }
 },
 "nbformat": 4,
 "nbformat_minor": 5
}
