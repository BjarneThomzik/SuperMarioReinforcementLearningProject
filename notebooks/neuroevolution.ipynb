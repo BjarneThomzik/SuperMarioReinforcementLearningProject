{
 "cells": [
  {
   "metadata": {},
   "cell_type": "markdown",
   "source": [
    "### Neuroevolution:\n",
    "- Bild -> preprocessing -> CNN -> MLP -> Eingabe (NES controller)\n",
    "- CNN und MLP basieren auf pytorch\n",
    "- CNN und MLP werden gemeinsam mutiert, die mutation vom agenten der am weitesten kam wird übernommen\n",
    "- Distanz vom Start wird (fürs erste) der einzige reward sein"
   ],
   "id": "9401e06fe8763420"
  },
  {
   "metadata": {},
   "cell_type": "code",
   "source": [
    "from src.non_reinforcement.neuroevolution.neuroevolution_agent import NeuroevolutionAgent\n",
    "from src.non_reinforcement.neuroevolution.neuroevolution_net import NeuroevolutionNet\n",
    "\n",
    "import gym_super_mario_bros\n",
    "from nes_py.wrappers import JoypadSpace\n",
    "from gym_super_mario_bros.actions import COMPLEX_MOVEMENT\n",
    "from gym.wrappers import RecordVideo\n",
    "import os\n",
    "\n",
    "# For saving video\n",
    "video_dir = \"../media/videos\"\n",
    "os.makedirs(video_dir, exist_ok=True)\n",
    "\n",
    "# Create environment and start recording video\n",
    "env = JoypadSpace(gym_super_mario_bros.make('SuperMarioBros-v0'), COMPLEX_MOVEMENT)\n",
    "env = RecordVideo(env, video_dir, episode_trigger=lambda x: True)\n",
    "\n",
    "# Create agent\n",
    "model = NeuroevolutionNet(num_actions=env.action_space.n)\n",
    "agent = NeuroevolutionAgent(model)\n",
    "\n",
    "# Evaluate agent\n",
    "fitness = agent.evaluate(env)\n",
    "env.close()\n",
    "\n",
    "print(f\"Fitness: {fitness}\")"
   ],
   "id": "c43fe74e977441a5",
   "outputs": [],
   "execution_count": null
  }
 ],
 "metadata": {
  "kernelspec": {
   "display_name": "Python 3",
   "language": "python",
   "name": "python3"
  },
  "language_info": {
   "codemirror_mode": {
    "name": "ipython",
    "version": 2
   },
   "file_extension": ".py",
   "mimetype": "text/x-python",
   "name": "python",
   "nbconvert_exporter": "python",
   "pygments_lexer": "ipython2",
   "version": "2.7.6"
  }
 },
 "nbformat": 4,
 "nbformat_minor": 5
}
