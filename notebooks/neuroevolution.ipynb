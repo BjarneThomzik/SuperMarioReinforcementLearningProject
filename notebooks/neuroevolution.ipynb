{
 "cells": [
  {
   "metadata": {},
   "cell_type": "markdown",
   "source": [
    "### Neuroevolution:\n",
    "- Bild -> preprocessing -> CNN -> MLP -> Eingabe (NES controller)\n",
    "- CNN und MLP basieren auf pytorch\n",
    "- CNN und MLP werden gemeinsam mutiert, die mutation vom agenten der am weitesten kam wird übernommen\n",
    "- Distanz vom Start wird (fürs erste) der einzige reward sein"
   ],
   "id": "9401e06fe8763420"
  },
  {
   "metadata": {
    "ExecuteTime": {
     "end_time": "2025-05-06T22:49:58.257429Z",
     "start_time": "2025-05-06T22:49:54.680057Z"
    }
   },
   "cell_type": "code",
   "source": [
    "from src.non_reinforcement.neuroevolution.neuroevolution_agent import NeuroevolutionAgent\n",
    "from src.non_reinforcement.neuroevolution.neuroevolution_net import NeuroevolutionNet\n",
    "\n",
    "import gym_super_mario_bros\n",
    "from nes_py.wrappers import JoypadSpace\n",
    "from gym_super_mario_bros.actions import COMPLEX_MOVEMENT\n",
    "from gym.wrappers import RecordVideo\n",
    "import os\n",
    "\n",
    "# For saving video\n",
    "video_dir = \"../media/videos\"\n",
    "os.makedirs(video_dir, exist_ok=True)\n",
    "\n",
    "# Create environment and start recording video\n",
    "env = JoypadSpace(gym_super_mario_bros.make('SuperMarioBros-v0'), COMPLEX_MOVEMENT)\n",
    "env = RecordVideo(env, video_dir, episode_trigger=lambda x: True)\n",
    "\n",
    "# Create agent\n",
    "model = NeuroevolutionNet(num_actions=env.action_space.n)\n",
    "agent = NeuroevolutionAgent(model)\n",
    "\n",
    "# Evaluate agent\n",
    "fitness = agent.evaluate(env)\n",
    "env.close()\n",
    "\n",
    "print(f\"Fitness: {fitness}\")"
   ],
   "id": "c43fe74e977441a5",
   "outputs": [
    {
     "name": "stderr",
     "output_type": "stream",
     "text": [
      "Warning: Gym version v0.24.1 has a number of critical issues with `gym.make` such that environment observation and action spaces are incorrectly evaluated, raising incorrect errors and warning . It is recommend to downgrading to v0.23.1 or upgrading to v0.25.1\n",
      "/Users/babajane/Library/Python/3.9/lib/python/site-packages/gym/envs/registration.py:564: UserWarning: \u001B[33mWARN: The environment SuperMarioBros-v0 is out of date. You should consider upgrading to version `v3`.\u001B[0m\n",
      "  logger.warn(\n",
      "/Users/babajane/Library/Python/3.9/lib/python/site-packages/gym/utils/passive_env_checker.py:97: UserWarning: \u001B[33mWARN: We recommend you to use a symmetric and normalized Box action space (range=[-1, 1]) https://stable-baselines3.readthedocs.io/en/master/guide/rl_tips.html\u001B[0m\n",
      "  logger.warn(\n",
      "/Users/babajane/Library/Python/3.9/lib/python/site-packages/gym/wrappers/record_video.py:75: UserWarning: \u001B[33mWARN: Overwriting existing videos at /Users/babajane/Library/Mobile Documents/com~apple~CloudDocs/realRoot/uni/mac/6Semester/cognitiveComputing/SuperMarioReinforcementLearningProject/media/videos folder (try specifying a different `video_folder` for the `RecordVideo` wrapper if this is not desired)\u001B[0m\n",
      "  logger.warn(\n",
      "/Users/babajane/Library/Python/3.9/lib/python/site-packages/gym/wrappers/monitoring/video_recorder.py:57: DeprecationWarning: \u001B[33mWARN: `env.metadata[\"render.modes\"] is marked as deprecated and will be replaced with `env.metadata[\"render_modes\"]` see https://github.com/openai/gym/pull/2654 for more details\u001B[0m\n",
      "  logger.deprecation(\n",
      "/Users/babajane/Library/Python/3.9/lib/python/site-packages/gym/wrappers/monitoring/video_recorder.py:130: DeprecationWarning: \u001B[33mWARN: `env.metadata[\"video.frames_per_second\"] is marked as deprecated and will be replaced with `env.metadata[\"render_fps\"]` see https://github.com/openai/gym/pull/2654 for more details\u001B[0m\n",
      "  logger.deprecation(\n",
      "/Users/babajane/Library/Python/3.9/lib/python/site-packages/gym/utils/passive_env_checker.py:297: UserWarning: \u001B[33mWARN: No render modes was declared in the environment (env.metadata['render_modes'] is None or not defined), you may have trouble when calling `.render()`\u001B[0m\n",
      "  logger.warn(\n",
      "/Users/babajane/Library/Python/3.9/lib/python/site-packages/gym/utils/passive_env_checker.py:305: UserWarning: \u001B[33mWARN: No render fps was declared in the environment (env.metadata['render_fps'] is None or not defined), rendering may occur at inconsistent fps\u001B[0m\n",
      "  logger.warn(\n"
     ]
    },
    {
     "name": "stdout",
     "output_type": "stream",
     "text": [
      "Fitness: 743.0\n"
     ]
    }
   ],
   "execution_count": 1
  },
  {
   "metadata": {},
   "cell_type": "code",
   "outputs": [],
   "execution_count": null,
   "source": "",
   "id": "9b66e651503d2b4c"
  }
 ],
 "metadata": {
  "kernelspec": {
   "display_name": "Python 3",
   "language": "python",
   "name": "python3"
  },
  "language_info": {
   "codemirror_mode": {
    "name": "ipython",
    "version": 2
   },
   "file_extension": ".py",
   "mimetype": "text/x-python",
   "name": "python",
   "nbconvert_exporter": "python",
   "pygments_lexer": "ipython2",
   "version": "2.7.6"
  }
 },
 "nbformat": 4,
 "nbformat_minor": 5
}
