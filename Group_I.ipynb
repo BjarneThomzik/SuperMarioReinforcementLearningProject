{
 "cells": [
  {
   "cell_type": "markdown",
   "metadata": {
    "id": "XsmfgIagXlts"
   },
   "source": [
    "# Super Mario Bros Gym\n",
    "This is the example notebook for the seminar:\n",
    "\n",
    "392142 Applied Cognitive Computing: Advancing Reinforcement Learning Agents through Cognitive Mechanisms\n",
    "\n",
    "You can change any part of this colab for your group work. Simply go to File -> \"Save a Copy to Drive\" and start changing parts of the code.\n",
    "\n",
    "Please don't use any reinforcement learning libraries for your group work (Stable Baselines, Chainer RL, and so on). The idea is not to simply plug in the state of the art model, but learn what works and what doesn't work by modifying an algorithm.\n",
    "\n",
    "For example, for the group work you could:\n",
    "- Change the reward model\n",
    "- Change the input\n",
    "- Change parts of PPO\n",
    "- Change parts of the environment\n",
    "- Implement a different Reinforcement Learning algorithm\n",
    "- Try out non Reinforcement Learning algorithms (MDP, POMDP, Genetic Algorithms)\n",
    "- Optimize part of the environment\n",
    "- Try out ANY other idea you have that could help in getting mario as far as possible.\n"
   ]
  },
  {
   "cell_type": "markdown",
   "metadata": {
    "id": "ljVkIDl4YfNf"
   },
   "source": [
    "# Setup"
   ]
  },
  {
   "metadata": {},
   "cell_type": "markdown",
   "source": [
    "! pip install gym==0.24.1 gym-super-mario-bros==7.4.0 nes_py==8.2.1 numpy==1.22.0 torch==2.2.0  torchaudio==2.2.0  torchrl==0.3.0  torchvision==0.17.0  tqdm==4.66.5 matplotlib==3.5.2 scipy==1.11.1 mediapy\n",
    "\n"
   ]
  },
  {
   "cell_type": "markdown",
   "metadata": {
    "id": "mwSex1aRZplg"
   },
   "source": [
    "## Checking the gpu that is provided by google colab.\n",
    "If you don't see a gpu listed, or an error is shown, please click on the small dropdown arrow on the top right corner and choose \"View Ressources\" from the appearing menu.\n",
    "\n",
    "From there you can click on \"Change runtime type\" on the bottom right.\n",
    "\n",
    "In the appearing window, you should be able to select a \"Hardware accelerator\", which you will have to set to \"GPU\""
   ]
  },
  {
   "cell_type": "code",
   "metadata": {
    "colab": {
     "base_uri": "https://localhost:8080/"
    },
    "executionInfo": {
     "elapsed": 111,
     "status": "ok",
     "timestamp": 1745690826310,
     "user": {
      "displayName": "Bjarne Thomzik",
      "userId": "06928226671254719565"
     },
     "user_tz": -120
    },
    "id": "8oEVD5spYICr",
    "outputId": "d801acb2-7903-477c-80f5-447eb40d777e",
    "ExecuteTime": {
     "end_time": "2025-04-27T23:16:26.908468Z",
     "start_time": "2025-04-27T23:16:26.794773Z"
    }
   },
   "source": [
    "! nvidia-smi"
   ],
   "outputs": [
    {
     "name": "stdout",
     "output_type": "stream",
     "text": [
      "Mon Apr 28 01:16:26 2025       \n",
      "+-----------------------------------------------------------------------------------------+\n",
      "| NVIDIA-SMI 560.94                 Driver Version: 560.94         CUDA Version: 12.6     |\n",
      "|-----------------------------------------+------------------------+----------------------+\n",
      "| GPU  Name                  Driver-Model | Bus-Id          Disp.A | Volatile Uncorr. ECC |\n",
      "| Fan  Temp   Perf          Pwr:Usage/Cap |           Memory-Usage | GPU-Util  Compute M. |\n",
      "|                                         |                        |               MIG M. |\n",
      "|=========================================+========================+======================|\n",
      "|   0  NVIDIA GeForce RTX 2070      WDDM  |   00000000:01:00.0  On |                  N/A |\n",
      "|  0%   42C    P8             39W /  112W |    2608MiB /   8192MiB |      1%      Default |\n",
      "|                                         |                        |                  N/A |\n",
      "+-----------------------------------------+------------------------+----------------------+\n",
      "                                                                                         \n",
      "+-----------------------------------------------------------------------------------------+\n",
      "| Processes:                                                                              |\n",
      "|  GPU   GI   CI        PID   Type   Process name                              GPU Memory |\n",
      "|        ID   ID                                                               Usage      |\n",
      "|=========================================================================================|\n",
      "|    0   N/A  N/A      1328    C+G   ...\\cef\\cef.win7x64\\steamwebhelper.exe      N/A      |\n",
      "|    0   N/A  N/A      2348    C+G   C:\\Windows\\explorer.exe                     N/A      |\n",
      "|    0   N/A  N/A      4000    C+G   ...rams\\PyCharm\\jbr\\bin\\cef_server.exe      N/A      |\n",
      "|    0   N/A  N/A      4672    C+G   ....Search_cw5n1h2txyewy\\SearchApp.exe      N/A      |\n",
      "|    0   N/A  N/A      4896    C+G   C:\\Windows\\System32\\mmgaserver.exe          N/A      |\n",
      "|    0   N/A  N/A      5380    C+G   ...m Files\\Mozilla Firefox\\firefox.exe      N/A      |\n",
      "|    0   N/A  N/A     10528    C+G   ...CBS_cw5n1h2txyewy\\TextInputHost.exe      N/A      |\n",
      "|    0   N/A  N/A     11408    C+G   ...nzyj5cx40ttqa\\iCloud\\iCloudHome.exe      N/A      |\n",
      "|    0   N/A  N/A     11424    C+G   ...al\\Discord\\app-1.0.9189\\Discord.exe      N/A      |\n",
      "|    0   N/A  N/A     12588    C+G   ...1.0_x64__8wekyb3d8bbwe\\Video.UI.exe      N/A      |\n",
      "|    0   N/A  N/A     12792    C+G   ...GeForce Experience\\NVIDIA Share.exe      N/A      |\n",
      "|    0   N/A  N/A     13272    C+G   ...m Files\\Mozilla Firefox\\firefox.exe      N/A      |\n",
      "|    0   N/A  N/A     14348    C+G   ...5n1h2txyewy\\ShellExperienceHost.exe      N/A      |\n",
      "|    0   N/A  N/A     15216    C+G   ...oogle\\Chrome\\Application\\chrome.exe      N/A      |\n",
      "|    0   N/A  N/A     15736    C+G   ...GeForce Experience\\NVIDIA Share.exe      N/A      |\n",
      "|    0   N/A  N/A     15744      C   ...nvs\\mario\\python.exe.c~.conda_trash      N/A      |\n",
      "+-----------------------------------------------------------------------------------------+\n"
     ]
    }
   ],
   "execution_count": 25
  },
  {
   "cell_type": "markdown",
   "metadata": {
    "id": "odqlWAkUanmT"
   },
   "source": [
    "# PPO Algorithm\n",
    "\n",
    "Here we define the PPO Algorithm, that can be freely extended during the seminar."
   ]
  },
  {
   "cell_type": "markdown",
   "metadata": {
    "id": "Q_y-oupXa4eZ"
   },
   "source": [
    "The imports used for the PPO algorithm"
   ]
  },
  {
   "cell_type": "code",
   "metadata": {
    "id": "ZZJwF2ddafxt",
    "colab": {
     "base_uri": "https://localhost:8080/"
    },
    "executionInfo": {
     "status": "ok",
     "timestamp": 1745690839044,
     "user_tz": -120,
     "elapsed": 2685,
     "user": {
      "displayName": "Bjarne Thomzik",
      "userId": "06928226671254719565"
     }
    },
    "outputId": "6ed138fc-594f-4086-877b-17f4bb1899a1",
    "ExecuteTime": {
     "end_time": "2025-04-27T23:16:26.954345Z",
     "start_time": "2025-04-27T23:16:26.940385Z"
    }
   },
   "source": [
    "import torch\n",
    "import torch.nn as nn\n",
    "from torch.distributions import MultivariateNormal\n",
    "from torch.distributions import Categorical\n",
    "from nes_py.wrappers import JoypadSpace\n",
    "import gym_super_mario_bros\n",
    "from gym_super_mario_bros.actions import SIMPLE_MOVEMENT,COMPLEX_MOVEMENT\n",
    "from datetime import datetime\n",
    "import cv2\n",
    "from tqdm import tqdm\n",
    "import numpy as np\n",
    "from gym.wrappers import GrayScaleObservation"
   ],
   "outputs": [],
   "execution_count": 26
  },
  {
   "cell_type": "markdown",
   "metadata": {
    "id": "3gczdoo9a9mH"
   },
   "source": [
    "Setting the device to gpu if available"
   ]
  },
  {
   "cell_type": "code",
   "metadata": {
    "executionInfo": {
     "elapsed": 22,
     "status": "ok",
     "timestamp": 1745690848341,
     "user": {
      "displayName": "Bjarne Thomzik",
      "userId": "06928226671254719565"
     },
     "user_tz": -120
    },
    "id": "AYDdPY8tYY_e",
    "colab": {
     "base_uri": "https://localhost:8080/"
    },
    "outputId": "0065c5a9-cd3e-4d0a-d336-43584be1fca4",
    "ExecuteTime": {
     "end_time": "2025-04-27T23:16:27.015183Z",
     "start_time": "2025-04-27T23:16:26.986261Z"
    }
   },
   "source": [
    "# set device to cpu or cuda\n",
    "device = torch.device('cpu')\n",
    "if(torch.cuda.is_available()):\n",
    "    device = torch.device('cuda:0')\n",
    "    torch.cuda.empty_cache()\n",
    "    print(\"Device set to : \" + str(torch.cuda.get_device_name(device)))\n",
    "\n",
    "else:\n",
    "    print(\"Device set to : cpu\")\n",
    "    device = torch.device(\"cpu\")"
   ],
   "outputs": [
    {
     "name": "stdout",
     "output_type": "stream",
     "text": [
      "Device set to : NVIDIA GeForce RTX 2070\n"
     ]
    }
   ],
   "execution_count": 27
  },
  {
   "cell_type": "markdown",
   "metadata": {
    "id": "UzUoRPJzboly"
   },
   "source": [
    "## ActorCritic\n",
    "Here we define the actor critic agent that functions as our neural network.\n",
    "To get a better understanding of the algorithm you can take a look at: https://theaisummer.com/Actor_critics/"
   ]
  },
  {
   "cell_type": "markdown",
   "source": [
    "## RolloutBuffer"
   ],
   "metadata": {
    "id": "_QKD_k1SmMwv"
   }
  },
  {
   "cell_type": "code",
   "metadata": {
    "id": "XclKPLRwe-jS",
    "executionInfo": {
     "status": "ok",
     "timestamp": 1745690858109,
     "user_tz": -120,
     "elapsed": 43,
     "user": {
      "displayName": "Bjarne Thomzik",
      "userId": "06928226671254719565"
     }
    },
    "ExecuteTime": {
     "end_time": "2025-04-27T23:16:27.076021Z",
     "start_time": "2025-04-27T23:16:27.064053Z"
    }
   },
   "source": [
    "# The RolloutBuffer which keeps the training tuples.\n",
    "class RolloutBuffer:\n",
    "    def __init__(self):\n",
    "        self.actions = []\n",
    "        self.states = []\n",
    "        self.logprobs = []\n",
    "        self.rewards = []\n",
    "        self.is_terminals = []\n",
    "\n",
    "    # We clear the buffer after each training update\n",
    "    def clear(self):\n",
    "        del self.actions[:]\n",
    "        del self.states[:]\n",
    "        del self.logprobs[:]\n",
    "        del self.rewards[:]\n",
    "        del self.is_terminals[:]"
   ],
   "outputs": [],
   "execution_count": 28
  },
  {
   "cell_type": "code",
   "metadata": {
    "id": "7Wo4XyWjbPve",
    "executionInfo": {
     "status": "ok",
     "timestamp": 1745690860081,
     "user_tz": -120,
     "elapsed": 10,
     "user": {
      "displayName": "Bjarne Thomzik",
      "userId": "06928226671254719565"
     }
    },
    "ExecuteTime": {
     "end_time": "2025-04-27T23:16:27.152815Z",
     "start_time": "2025-04-27T23:16:27.123892Z"
    }
   },
   "source": [
    "class ActorCritic(nn.Module):\n",
    "    def __init__(self, state_dim, action_dim, has_continuous_action_space, action_std_init):\n",
    "        super(ActorCritic, self).__init__()\n",
    "        # We define if the action space is continuous or a value choosen from a set of possible actions\n",
    "        self.has_continuous_action_space = has_continuous_action_space\n",
    "\n",
    "\n",
    "        if has_continuous_action_space:\n",
    "            self.action_dim = action_dim\n",
    "            self.action_var = torch.full((action_dim,), action_std_init * action_std_init).to(device)\n",
    "        # defining the actor\n",
    "        if has_continuous_action_space :\n",
    "            self.actor = nn.Sequential(\n",
    "                            nn.Linear(state_dim, 64),\n",
    "                            nn.Tanh(),\n",
    "                            nn.Linear(64, 64),\n",
    "                            nn.Tanh(),\n",
    "                            nn.Linear(64, action_dim),\n",
    "                        )\n",
    "        else:\n",
    "            self.actor = nn.Sequential(\n",
    "                            nn.Linear(state_dim, 64),\n",
    "                            nn.Tanh(),\n",
    "                            nn.Linear(64, 64),\n",
    "                            nn.Tanh(),\n",
    "                            nn.Linear(64, action_dim),\n",
    "                            nn.Softmax(dim=-1)\n",
    "                        )\n",
    "        # defining the critic\n",
    "        self.critic = nn.Sequential(\n",
    "                        nn.Linear(state_dim, 64),\n",
    "                        nn.Tanh(),\n",
    "                        nn.Linear(64, 64),\n",
    "                        nn.Tanh(),\n",
    "                        nn.Linear(64, 1)\n",
    "                    )\n",
    "\n",
    "    def set_action_std(self, new_action_std):\n",
    "        #We only calculate the action std if we have a continuous action space\n",
    "        if self.has_continuous_action_space:\n",
    "            self.action_var = torch.full((self.action_dim,), new_action_std * new_action_std).to(device)\n",
    "        else:\n",
    "            print(\"--------------------------------------------------------------------------------------------\")\n",
    "            print(\"WARNING : Calling ActorCritic::set_action_std() on discrete action space policy\")\n",
    "            print(\"--------------------------------------------------------------------------------------------\")\n",
    "\n",
    "    def forward(self):\n",
    "        raise NotImplementedError\n",
    "\n",
    "    def act(self, state):\n",
    "        # if we have a continuous action space we sample from a multivariate normal distribution\n",
    "        # otherwise we calculate a categorical action spac\n",
    "        if self.has_continuous_action_space:\n",
    "            action_mean = self.actor(state)\n",
    "            cov_mat = torch.diag(self.action_var).unsqueeze(dim=0)\n",
    "            dist = MultivariateNormal(action_mean, cov_mat)\n",
    "        else:\n",
    "            action_probs = self.actor(state)\n",
    "            dist = Categorical(action_probs)\n",
    "\n",
    "        action = dist.sample()\n",
    "        action_logprob = dist.log_prob(action)\n",
    "\n",
    "        return action.detach(), action_logprob.detach()\n",
    "\n",
    "    def evaluate(self, state, action):\n",
    "\n",
    "        if self.has_continuous_action_space:\n",
    "            action_mean = self.actor(state)\n",
    "\n",
    "            action_var = self.action_var.expand_as(action_mean)\n",
    "            cov_mat = torch.diag_embed(action_var).to(device)\n",
    "            dist = MultivariateNormal(action_mean, cov_mat)\n",
    "\n",
    "            # For Single Action Environments.\n",
    "            if self.action_dim == 1:\n",
    "                action = action.reshape(-1, self.action_dim)\n",
    "        else:\n",
    "            action_probs = self.actor(state)\n",
    "            dist = Categorical(action_probs)\n",
    "        action_logprobs = dist.log_prob(action)\n",
    "        dist_entropy = dist.entropy()\n",
    "        state_values = self.critic(state)\n",
    "\n",
    "        return action_logprobs, state_values, dist_entropy\n"
   ],
   "outputs": [],
   "execution_count": 29
  },
  {
   "cell_type": "markdown",
   "source": [
    "##PPO"
   ],
   "metadata": {
    "id": "eKo891_Luri6"
   }
  },
  {
   "cell_type": "code",
   "metadata": {
    "id": "ealjmWSObWdq",
    "executionInfo": {
     "status": "ok",
     "timestamp": 1745690865396,
     "user_tz": -120,
     "elapsed": 18,
     "user": {
      "displayName": "Bjarne Thomzik",
      "userId": "06928226671254719565"
     }
    },
    "ExecuteTime": {
     "end_time": "2025-04-27T23:16:27.229610Z",
     "start_time": "2025-04-27T23:16:27.186725Z"
    }
   },
   "source": [
    "class PPO:\n",
    "    def __init__(self, state_dim, action_dim, lr_actor, lr_critic, gamma, K_epochs, eps_clip, has_continuous_action_space, action_std_init=0.6):\n",
    "\n",
    "        self.has_continuous_action_space = has_continuous_action_space\n",
    "\n",
    "        if has_continuous_action_space:\n",
    "            self.action_std = action_std_init\n",
    "\n",
    "        self.gamma = gamma\n",
    "        self.eps_clip = eps_clip\n",
    "        self.K_epochs = K_epochs\n",
    "\n",
    "        self.buffer = RolloutBuffer()\n",
    "\n",
    "        self.policy = ActorCritic(state_dim, action_dim, has_continuous_action_space, action_std_init).to(device)\n",
    "        self.optimizer = torch.optim.Adam([\n",
    "                        {'params': self.policy.actor.parameters(), 'lr': lr_actor},\n",
    "                        {'params': self.policy.critic.parameters(), 'lr': lr_critic}\n",
    "                    ])\n",
    "\n",
    "        self.policy_old = ActorCritic(state_dim, action_dim, has_continuous_action_space, action_std_init).to(device)\n",
    "        self.policy_old.load_state_dict(self.policy.state_dict())\n",
    "\n",
    "        self.MseLoss = nn.MSELoss()\n",
    "\n",
    "    def set_action_std(self, new_action_std):\n",
    "        if self.has_continuous_action_space:\n",
    "            self.action_std = new_action_std\n",
    "            self.policy.set_action_std(new_action_std)\n",
    "            self.policy_old.set_action_std(new_action_std)\n",
    "        else:\n",
    "            print(\"--------------------------------------------------------------------------------------------\")\n",
    "            print(\"WARNING : Calling PPO::set_action_std() on discrete action space policy\")\n",
    "            print(\"--------------------------------------------------------------------------------------------\")\n",
    "\n",
    "    def decay_action_std(self, action_std_decay_rate, min_action_std):\n",
    "        print(\"--------------------------------------------------------------------------------------------\")\n",
    "        if self.has_continuous_action_space:\n",
    "            self.action_std = self.action_std - action_std_decay_rate\n",
    "            self.action_std = round(self.action_std, 4)\n",
    "            if (self.action_std <= min_action_std):\n",
    "                self.action_std = min_action_std\n",
    "                print(\"setting actor output action_std to min_action_std : \", self.action_std)\n",
    "            else:\n",
    "                print(\"setting actor output action_std to : \", self.action_std)\n",
    "            self.set_action_std(self.action_std)\n",
    "\n",
    "        else:\n",
    "            print(\"WARNING : Calling PPO::decay_action_std() on discrete action space policy\")\n",
    "        print(\"--------------------------------------------------------------------------------------------\")\n",
    "\n",
    "    def select_action(self, state):\n",
    "\n",
    "        if self.has_continuous_action_space:\n",
    "            with torch.no_grad():\n",
    "                state = torch.FloatTensor(state).to(device)\n",
    "                action, action_logprob = self.policy_old.act(state)\n",
    "\n",
    "            self.buffer.states.append(state.cpu())\n",
    "            self.buffer.actions.append(action.cpu())\n",
    "            self.buffer.logprobs.append(action_logprob.cpu())\n",
    "\n",
    "            return action.detach().cpu().numpy().flatten()\n",
    "        else:\n",
    "            with torch.no_grad():\n",
    "                state = torch.FloatTensor(state).to(device)\n",
    "                action, action_logprob = self.policy_old.act(state)\n",
    "\n",
    "            self.buffer.states.append(state)\n",
    "            self.buffer.actions.append(action)\n",
    "            self.buffer.logprobs.append(action_logprob)\n",
    "\n",
    "            return action.item()\n",
    "\n",
    "    def update(self):\n",
    "        # Monte Carlo estimate of returns\n",
    "        rewards = []\n",
    "        discounted_reward = 0\n",
    "        for reward, is_terminal in zip(reversed(self.buffer.rewards), reversed(self.buffer.is_terminals)):\n",
    "            if is_terminal:\n",
    "                discounted_reward = 0\n",
    "            discounted_reward = reward + (self.gamma * discounted_reward)\n",
    "            rewards.insert(0, discounted_reward)\n",
    "\n",
    "        # Normalizing the rewards\n",
    "        rewards = torch.tensor(rewards, dtype=torch.float32).to(device)\n",
    "        rewards = (rewards - rewards.mean()) / (rewards.std() + 1e-7)\n",
    "\n",
    "        # convert list to tensor\n",
    "        old_states = torch.squeeze(torch.stack(self.buffer.states, dim=0)).detach().to(device)\n",
    "        old_actions = torch.squeeze(torch.stack(self.buffer.actions, dim=0)).detach().to(device)\n",
    "        old_logprobs = torch.squeeze(torch.stack(self.buffer.logprobs, dim=0)).detach().to(device)\n",
    "\n",
    "        # Optimize policy for K epochs\n",
    "        for _ in range(self.K_epochs):\n",
    "\n",
    "            # Evaluating old actions and values\n",
    "            logprobs, state_values, dist_entropy = self.policy.evaluate(old_states, old_actions)\n",
    "\n",
    "            # match state_values tensor dimensions with rewards tensor\n",
    "            state_values = torch.squeeze(state_values)\n",
    "\n",
    "            # Finding the ratio (pi_theta / pi_theta__old)\n",
    "            ratios = torch.exp(logprobs - old_logprobs.detach())\n",
    "\n",
    "            # Finding Surrogate Loss\n",
    "            advantages = rewards - state_values.detach()\n",
    "            surr1 = ratios * advantages\n",
    "            surr2 = torch.clamp(ratios, 1-self.eps_clip, 1+self.eps_clip) * advantages\n",
    "\n",
    "            # final loss of clipped objective PPO\n",
    "            loss = -torch.min(surr1, surr2) + 0.5*self.MseLoss(state_values, rewards) - 0.01*dist_entropy\n",
    "\n",
    "            # take gradient step\n",
    "            self.optimizer.zero_grad()\n",
    "            loss.mean().backward()\n",
    "            self.optimizer.step()\n",
    "\n",
    "        # Copy new weights into old policy\n",
    "        self.policy_old.load_state_dict(self.policy.state_dict())\n",
    "\n",
    "        # clear buffer\n",
    "        self.buffer.clear()\n",
    "\n",
    "    def save(self, checkpoint_path):\n",
    "        torch.save(self.policy_old.state_dict(), checkpoint_path)\n",
    "\n",
    "    def load(self, checkpoint_path):\n",
    "        self.policy_old.load_state_dict(torch.load(checkpoint_path, map_location=lambda storage, loc: storage))\n",
    "        self.policy.load_state_dict(torch.load(checkpoint_path, map_location=lambda storage, loc: storage))"
   ],
   "outputs": [],
   "execution_count": 30
  },
  {
   "cell_type": "markdown",
   "source": [
    "##Helper Functions for the environments and rendering"
   ],
   "metadata": {
    "id": "xDcMPok6uvNR"
   }
  },
  {
   "cell_type": "code",
   "metadata": {
    "id": "K5_5pBVNgfv_",
    "executionInfo": {
     "status": "ok",
     "timestamp": 1745690869320,
     "user_tz": -120,
     "elapsed": 5,
     "user": {
      "displayName": "Bjarne Thomzik",
      "userId": "06928226671254719565"
     }
    },
    "ExecuteTime": {
     "end_time": "2025-04-27T23:16:27.276485Z",
     "start_time": "2025-04-27T23:16:27.262522Z"
    }
   },
   "source": [
    "#renders given frames with mediapy and shows a video\n",
    "def renderEnv(frames):\n",
    "  import mediapy as media\n",
    "  media.show_video(frames,fps=60//4)\n",
    "\n",
    "#plot for visualizing results\n",
    "def plotRewardandTime(avg_norm_reward,avg_length):\n",
    "  import matplotlib.pyplot as plt\n",
    "  x = np.linspace(0,len(avg_reward),len(avg_reward))\n",
    "\n",
    "  fig, axs = plt.subplots(1, 2,figsize=(9,3))\n",
    "\n",
    "  axs[0].plot(x, avg_norm_reward)\n",
    "  axs[0].set_title(\"avg_norm_reward\")\n",
    "\n",
    "  axs[1].plot(x, avg_length)\n",
    "  axs[1].set_title(\"avg_length\")\n",
    "  plt.show()"
   ],
   "outputs": [],
   "execution_count": 31
  },
  {
   "cell_type": "code",
   "metadata": {
    "id": "1Pk0QoPX5t3p",
    "ExecuteTime": {
     "end_time": "2025-04-27T23:16:27.337322Z",
     "start_time": "2025-04-27T23:16:27.324356Z"
    }
   },
   "source": [
    "import gym\n",
    "\n",
    "#This environment wrapper is used to stop a run if mario is stuck on a pipe\n",
    "class DeadlockEnv(gym.Wrapper):\n",
    "    def __init__(self, env, threshold=10):\n",
    "        super().__init__(env)\n",
    "        self.last_x_pos = 0\n",
    "        self.count = 0\n",
    "        self.threshold = threshold\n",
    "        self.lifes = 3\n",
    "        self.stage = 1\n",
    "        self.world = 1\n",
    "\n",
    "    def reset(self, **kwargs):\n",
    "        self.last_x_pos = 0\n",
    "        self.count = 0\n",
    "        return self.env.reset(**kwargs)\n",
    "\n",
    "    def step(self, action):\n",
    "        state, reward, done, info = self.env.step(action)\n",
    "        x_pos = info['x_pos']\n",
    "\n",
    "        if x_pos <= self.last_x_pos:\n",
    "            self.count += 1\n",
    "        else:\n",
    "            self.count = 0\n",
    "            self.last_x_pos = x_pos\n",
    "\n",
    "        if info['life'] != self.lifes or info[\"stage\"] != self.stage or info[\"world\"] != self.world:\n",
    "            self.last_x_pos = x_pos\n",
    "            self.count = 0\n",
    "            self.lifes = info['life']\n",
    "            self.stage = info[\"stage\"]\n",
    "            self.world = info[\"world\"]\n",
    "\n",
    "        if self.count >= self.threshold:\n",
    "            reward = -15\n",
    "            done = True\n",
    "\n",
    "        return state, reward, done, info\n",
    "\n",
    "#skipframe wrapper\n",
    "class SkipFrame(gym.Wrapper):\n",
    "    def __init__(self, env, skip):\n",
    "        super().__init__(env)\n",
    "        self._skip = skip\n",
    "\n",
    "    def step(self, action):\n",
    "        reward_out = 0\n",
    "        for i in range(self._skip):\n",
    "            obs, reward, done, info = self.env.step(action)\n",
    "            reward_out += reward\n",
    "            if done:\n",
    "                break\n",
    "        reward_out /= max(1,i+1)\n",
    "\n",
    "        return obs, reward_out, done, info\n",
    "\n",
    "#downsample wrapper to reduce dimensionality\n",
    "def Downsample(ratio,state):\n",
    "  (oldh, oldw, oldc) = state.shape\n",
    "  newshape = (oldh//ratio, oldw//ratio, oldc)\n",
    "  frame = cv2.resize(state, (newshape[0], newshape[1]), interpolation=cv2.INTER_AREA)\n",
    "  return frame\n",
    "\n",
    "#small function to change rgb images to grayscale\n",
    "def GrayScale(state):\n",
    "  return cv2.cvtColor(state, cv2.COLOR_RGB2GRAY)\n",
    "\n"
   ],
   "outputs": [],
   "execution_count": 32
  },
  {
   "cell_type": "markdown",
   "source": [
    "#Training\n",
    "\n",
    "If you want to run this for more than an hour and really test how far your model gets, I would recommend to start a local runtime on your computer/laptop.\n",
    "Here is a link on how to create a local runtime: https://research.google.com/colaboratory/local-runtimes.html"
   ],
   "metadata": {
    "id": "aqeX3kGEyE45"
   }
  },
  {
   "cell_type": "code",
   "metadata": {
    "id": "4WeQxPlZcq4_",
    "executionInfo": {
     "status": "error",
     "timestamp": 1745690888257,
     "user_tz": -120,
     "elapsed": 386,
     "user": {
      "displayName": "Bjarne Thomzik",
      "userId": "06928226671254719565"
     }
    },
    "colab": {
     "base_uri": "https://localhost:8080/",
     "height": 221
    },
    "outputId": "2d2e9b97-e58f-4fe3-8b1a-34df9ae4bac1"
   },
   "source": [
    "from IPython.core.display import clear_output\n",
    "\n",
    "\n",
    "state_dim = 15360                     # state space dimension\n",
    "lr_actor = 0.0003                     # learning rate for actor network\n",
    "lr_critic = 0.001                     # learning rate for critic network\n",
    "gamma = 0.99                          # gamma discount\n",
    "K_epochs = 50                         # K value for the PPO-CLIP objective function\n",
    "eps_clip = 0.2                        # the epsilon clipping value\n",
    "has_continuous_action_space = False   # the mario environment doesn't have a continuous action space\n",
    "action_std = None                     # we don't change the action distribution\n",
    "frameskip = 4                         # the frameskip value of the environment\n",
    "down_sample_rate = 4                  # downsample rate. Calculated as: original_dimension/down_sample_rate\n",
    "frame_stack = 4                       # frame stacking value\n",
    "\n",
    "env = gym_super_mario_bros.make('SuperMarioBros-v1')  #the environment. v0 is with original background, v1 has the background removed\n",
    "env = JoypadSpace(env, SIMPLE_MOVEMENT)               #The Joypadspace sets the available actions. We use SIMPLE_MOVEMENT.\n",
    "env = SkipFrame(env, skip=frameskip)                  #Skipframewrapper to skip some frames\n",
    "env = DeadlockEnv(env,threshold=(60*2)//frameskip)                   #Deadlock environment wrapper to stop the game if mario is stuck at a pipe\n",
    "\n",
    "\n",
    "\n",
    "action_dim = env.action_space.n # action space dimension\n",
    "#state_dim = env.state_space.n  # Currently we flatten the input and therefore set the state_dim manually\n",
    "\n",
    "ppo_agent = PPO(state_dim, action_dim, lr_actor, lr_critic, gamma, K_epochs, eps_clip, has_continuous_action_space, action_std)\n",
    "\n",
    "# track total training time\n",
    "start_time = datetime.now().replace(microsecond=0)\n",
    "print(\"Started training at (GMT) : \", start_time)\n",
    "\n",
    "print(\"============================================================================================\")\n",
    "\n",
    "#some helper variables\n",
    "time_step = 0\n",
    "max_training_epochs = 10000\n",
    "max_ep_len = 10000\n",
    "update_timestep = max_ep_len\n",
    "\n",
    "# We mount the google drive to save and load PPO states.\n",
    "#from google.colab import drive\n",
    "#drive.mount('/content/gdrive')\n",
    "\n",
    "# If an agent is saved you can uncomment the following line to load the weights.\n",
    "#ppo_agent.load(\"/content/gdrive/My Drive/ppo.save\")\n",
    "\n",
    "avg_reward_temp = []\n",
    "avg_length_temp = []\n",
    "avg_norm_reward_temp = []\n",
    "avg_reward = []\n",
    "avg_length = []\n",
    "avg_norm_reward = []\n",
    "updates = 0\n",
    "\n",
    "episode_list = []\n",
    "\n",
    "tbar = tqdm(range(1,max_training_epochs))\n",
    "for i in tbar:\n",
    "    # first we reset the state\n",
    "    state = env.reset()\n",
    "    current_ep_reward = 0\n",
    "    # as we stack some frames, we create a buffer with empty frames for the first inputs\n",
    "    states_buffer = [np.zeros((3840,)) for _ in range(3)]\n",
    "    frames = []\n",
    "    # the collection loop\n",
    "    for t in range(1, max_ep_len):\n",
    "        # Downsampling the environment\n",
    "        in_state = GrayScale(Downsample(down_sample_rate,state.copy())).flatten()\n",
    "\n",
    "        # creating the new stack for the current frame\n",
    "        states_buffer.append(in_state/255)\n",
    "        states_buffer = states_buffer[-frame_stack:]\n",
    "\n",
    "        # selecting an action\n",
    "        action = ppo_agent.select_action(np.asarray(states_buffer).flatten())\n",
    "        #print(np.asarray(states_buffer).flatten().min(),np.asarray(states_buffer).flatten().max())\n",
    "\n",
    "        # performing the action and receiving the information from the environments\n",
    "        state, reward, done, info = env.step(action)\n",
    "\n",
    "        # Every 10 epochs we render the environments and therefore save the state\n",
    "        if not done:\n",
    "            frames.append(state.copy())\n",
    "\n",
    "        # The PPO agent needs the reward and the done state manually, as we could modify it.\n",
    "        ppo_agent.buffer.rewards.append(reward)\n",
    "        ppo_agent.buffer.is_terminals.append(done)\n",
    "\n",
    "        time_step +=1\n",
    "        current_ep_reward += reward\n",
    "\n",
    "        # every update_steps (2048) we update the algorithm\n",
    "        #if time_step % update_steps == 0:\n",
    "\n",
    "\n",
    "        # if the run is done we break the loop\n",
    "        if done:\n",
    "            break\n",
    "    if len(frames) > 0:\n",
    "      episode_list.append((current_ep_reward,frames))\n",
    "\n",
    "\n",
    "\n",
    "    # We collect information every run and write them to the console\n",
    "    avg_reward_temp.append(current_ep_reward)\n",
    "    avg_length_temp.append(t)\n",
    "    tbar.set_description(\"timestep: \" + str(time_step) + \" updates: \"+str(updates)+\" reward: \"+str(np.asarray(avg_norm_reward_temp[-50:]).mean()))\n",
    "    avg_norm_reward_temp.append(current_ep_reward/max(1,t))\n",
    "\n",
    "    # Every 10 epochs we render the current environment\n",
    "    if i % 10 == 0:\n",
    "      ppo_agent.update()\n",
    "      updates += 1\n",
    "      avg_reward.append(np.median(avg_reward_temp))\n",
    "      avg_length.append(np.median(avg_length_temp))\n",
    "      avg_norm_reward.append(np.median(avg_norm_reward_temp))\n",
    "\n",
    "      if len(episode_list) > 0:\n",
    "\n",
    "        clear_output(wait=True)\n",
    "        episode_list.sort(key=lambda x: x[0]) # we sort by the received reward and pick the best run to visualize\n",
    "\n",
    "        print(\"--------------------------------\")\n",
    "        print(\"Epoch\",i,\"done:\")\n",
    "        print(\"Update iterations:\",updates)\n",
    "        print(\"Statistics:\")\n",
    "        print(\"\")\n",
    "        print(\"Reward of best episode:\",episode_list[-1][0])\n",
    "        print(\"Length of best episode:\",len(episode_list[-1][1]))\n",
    "        print(\"\")\n",
    "        print(\"Average total reward:\",np.asarray(avg_reward[-50:]).mean())\n",
    "        print(\"Average normalized reward:\",np.asarray(avg_norm_reward[-50:]).mean())\n",
    "        print(\"Average length:\",np.asarray(avg_length[-50:]).mean())\n",
    "        print(\"--------------------------------\")\n",
    "        plotRewardandTime(avg_norm_reward,avg_length)\n",
    "\n",
    "        #renderEnv(episode_list[-1][1])\n",
    "\n",
    "        # Save best run as mp4\n",
    "        import mediapy as media\n",
    "        from IPython.display import Video, display\n",
    "\n",
    "        frames_to_save = episode_list[-1][1]\n",
    "        filename = f\"best_run_epoch_{i}.mp4\"\n",
    "\n",
    "        if frames_to_save:\n",
    "            media.write_video(filename, frames_to_save, fps=60//4)\n",
    "            video_display = Video(filename)\n",
    "            display(video_display)\n",
    "        else:\n",
    "            print(\"No frames to save or display.\")\n",
    "\n",
    "\n",
    "        episode_list = []\n",
    "\n",
    "        #ppo_agent.save(\"/content/gdrive/My Drive/ppo.save\")\n",
    "\n",
    "\n",
    "\n",
    "\n",
    "\n",
    "\n",
    "\n",
    "env.close()"
   ],
   "execution_count": 36,
   "outputs": [
    {
     "data": {
      "text/plain": [
       "<Figure size 900x300 with 2 Axes>"
      ],
      "image/png": "[encoded data removed]"
     },
     "metadata": {},
     "output_type": "display_data"
    },
    {
     "data": {
      "text/plain": [
       "<IPython.core.display.Video object>"
      ],
      "text/html": [
       "<video src=\"best_run_epoch_70.mp4\" controls  >\n",
       "      Your browser does not support the <code>video</code> element.\n",
       "    </video>"
      ]
     },
     "metadata": {},
     "output_type": "display_data"
    },
    {
     "name": "stderr",
     "output_type": "stream",
     "text": [
      "timestep: 16100 updates: 7 reward: 1.0755301950976808:   1%|          | 78/9999 [02:47<5:54:12,  2.14s/it] \n"
     ]
    },
    {
     "ename": "KeyboardInterrupt",
     "evalue": "",
     "output_type": "error",
     "traceback": [
      "\u001B[1;31m---------------------------------------------------------------------------\u001B[0m",
      "\u001B[1;31mKeyboardInterrupt\u001B[0m                         Traceback (most recent call last)",
      "Cell \u001B[1;32mIn[36], line 79\u001B[0m\n\u001B[0;32m     75\u001B[0m action \u001B[38;5;241m=\u001B[39m ppo_agent\u001B[38;5;241m.\u001B[39mselect_action(np\u001B[38;5;241m.\u001B[39masarray(states_buffer)\u001B[38;5;241m.\u001B[39mflatten())\n\u001B[0;32m     76\u001B[0m \u001B[38;5;66;03m#print(np.asarray(states_buffer).flatten().min(),np.asarray(states_buffer).flatten().max())\u001B[39;00m\n\u001B[0;32m     77\u001B[0m \n\u001B[0;32m     78\u001B[0m \u001B[38;5;66;03m# performing the action and receiving the information from the environments\u001B[39;00m\n\u001B[1;32m---> 79\u001B[0m state, reward, done, info \u001B[38;5;241m=\u001B[39m \u001B[43menv\u001B[49m\u001B[38;5;241;43m.\u001B[39;49m\u001B[43mstep\u001B[49m\u001B[43m(\u001B[49m\u001B[43maction\u001B[49m\u001B[43m)\u001B[49m\n\u001B[0;32m     81\u001B[0m \u001B[38;5;66;03m# Every 10 epochs we render the environments and therefore save the state\u001B[39;00m\n\u001B[0;32m     82\u001B[0m \u001B[38;5;28;01mif\u001B[39;00m \u001B[38;5;129;01mnot\u001B[39;00m done:\n",
      "Cell \u001B[1;32mIn[32], line 20\u001B[0m, in \u001B[0;36mDeadlockEnv.step\u001B[1;34m(self, action)\u001B[0m\n\u001B[0;32m     19\u001B[0m \u001B[38;5;28;01mdef\u001B[39;00m\u001B[38;5;250m \u001B[39m\u001B[38;5;21mstep\u001B[39m(\u001B[38;5;28mself\u001B[39m, action):\n\u001B[1;32m---> 20\u001B[0m     state, reward, done, info \u001B[38;5;241m=\u001B[39m \u001B[38;5;28;43mself\u001B[39;49m\u001B[38;5;241;43m.\u001B[39;49m\u001B[43menv\u001B[49m\u001B[38;5;241;43m.\u001B[39;49m\u001B[43mstep\u001B[49m\u001B[43m(\u001B[49m\u001B[43maction\u001B[49m\u001B[43m)\u001B[49m\n\u001B[0;32m     21\u001B[0m     x_pos \u001B[38;5;241m=\u001B[39m info[\u001B[38;5;124m'\u001B[39m\u001B[38;5;124mx_pos\u001B[39m\u001B[38;5;124m'\u001B[39m]\n\u001B[0;32m     23\u001B[0m     \u001B[38;5;28;01mif\u001B[39;00m x_pos \u001B[38;5;241m<\u001B[39m\u001B[38;5;241m=\u001B[39m \u001B[38;5;28mself\u001B[39m\u001B[38;5;241m.\u001B[39mlast_x_pos:\n",
      "Cell \u001B[1;32mIn[32], line 51\u001B[0m, in \u001B[0;36mSkipFrame.step\u001B[1;34m(self, action)\u001B[0m\n\u001B[0;32m     49\u001B[0m reward_out \u001B[38;5;241m=\u001B[39m \u001B[38;5;241m0\u001B[39m\n\u001B[0;32m     50\u001B[0m \u001B[38;5;28;01mfor\u001B[39;00m i \u001B[38;5;129;01min\u001B[39;00m \u001B[38;5;28mrange\u001B[39m(\u001B[38;5;28mself\u001B[39m\u001B[38;5;241m.\u001B[39m_skip):\n\u001B[1;32m---> 51\u001B[0m     obs, reward, done, info \u001B[38;5;241m=\u001B[39m \u001B[38;5;28;43mself\u001B[39;49m\u001B[38;5;241;43m.\u001B[39;49m\u001B[43menv\u001B[49m\u001B[38;5;241;43m.\u001B[39;49m\u001B[43mstep\u001B[49m\u001B[43m(\u001B[49m\u001B[43maction\u001B[49m\u001B[43m)\u001B[49m\n\u001B[0;32m     52\u001B[0m     reward_out \u001B[38;5;241m+\u001B[39m\u001B[38;5;241m=\u001B[39m reward\n\u001B[0;32m     53\u001B[0m     \u001B[38;5;28;01mif\u001B[39;00m done:\n",
      "File \u001B[1;32m~\\miniconda3\\envs\\mario\\lib\\site-packages\\nes_py\\wrappers\\joypad_space.py:74\u001B[0m, in \u001B[0;36mJoypadSpace.step\u001B[1;34m(self, action)\u001B[0m\n\u001B[0;32m     59\u001B[0m \u001B[38;5;250m\u001B[39m\u001B[38;5;124;03m\"\"\"\u001B[39;00m\n\u001B[0;32m     60\u001B[0m \u001B[38;5;124;03mTake a step using the given action.\u001B[39;00m\n\u001B[0;32m     61\u001B[0m \n\u001B[1;32m   (...)\u001B[0m\n\u001B[0;32m     71\u001B[0m \n\u001B[0;32m     72\u001B[0m \u001B[38;5;124;03m\"\"\"\u001B[39;00m\n\u001B[0;32m     73\u001B[0m \u001B[38;5;66;03m# take the step and record the output\u001B[39;00m\n\u001B[1;32m---> 74\u001B[0m \u001B[38;5;28;01mreturn\u001B[39;00m \u001B[38;5;28;43mself\u001B[39;49m\u001B[38;5;241;43m.\u001B[39;49m\u001B[43menv\u001B[49m\u001B[38;5;241;43m.\u001B[39;49m\u001B[43mstep\u001B[49m\u001B[43m(\u001B[49m\u001B[38;5;28;43mself\u001B[39;49m\u001B[38;5;241;43m.\u001B[39;49m\u001B[43m_action_map\u001B[49m\u001B[43m[\u001B[49m\u001B[43maction\u001B[49m\u001B[43m]\u001B[49m\u001B[43m)\u001B[49m\n",
      "File \u001B[1;32m~\\miniconda3\\envs\\mario\\lib\\site-packages\\gym\\wrappers\\time_limit.py:49\u001B[0m, in \u001B[0;36mTimeLimit.step\u001B[1;34m(self, action)\u001B[0m\n\u001B[0;32m     38\u001B[0m \u001B[38;5;28;01mdef\u001B[39;00m\u001B[38;5;250m \u001B[39m\u001B[38;5;21mstep\u001B[39m(\u001B[38;5;28mself\u001B[39m, action):\n\u001B[0;32m     39\u001B[0m \u001B[38;5;250m    \u001B[39m\u001B[38;5;124;03m\"\"\"Steps through the environment and if the number of steps elapsed exceeds ``max_episode_steps`` then truncate.\u001B[39;00m\n\u001B[0;32m     40\u001B[0m \n\u001B[0;32m     41\u001B[0m \u001B[38;5;124;03m    Args:\u001B[39;00m\n\u001B[1;32m   (...)\u001B[0m\n\u001B[0;32m     47\u001B[0m \u001B[38;5;124;03m        \"TimeLimit.truncated\"=False if the environment terminated\u001B[39;00m\n\u001B[0;32m     48\u001B[0m \u001B[38;5;124;03m    \"\"\"\u001B[39;00m\n\u001B[1;32m---> 49\u001B[0m     observation, reward, done, info \u001B[38;5;241m=\u001B[39m \u001B[38;5;28;43mself\u001B[39;49m\u001B[38;5;241;43m.\u001B[39;49m\u001B[43menv\u001B[49m\u001B[38;5;241;43m.\u001B[39;49m\u001B[43mstep\u001B[49m\u001B[43m(\u001B[49m\u001B[43maction\u001B[49m\u001B[43m)\u001B[49m\n\u001B[0;32m     50\u001B[0m     \u001B[38;5;28mself\u001B[39m\u001B[38;5;241m.\u001B[39m_elapsed_steps \u001B[38;5;241m+\u001B[39m\u001B[38;5;241m=\u001B[39m \u001B[38;5;241m1\u001B[39m\n\u001B[0;32m     51\u001B[0m     \u001B[38;5;28;01mif\u001B[39;00m \u001B[38;5;28mself\u001B[39m\u001B[38;5;241m.\u001B[39m_elapsed_steps \u001B[38;5;241m>\u001B[39m\u001B[38;5;241m=\u001B[39m \u001B[38;5;28mself\u001B[39m\u001B[38;5;241m.\u001B[39m_max_episode_steps:\n",
      "File \u001B[1;32m~\\miniconda3\\envs\\mario\\lib\\site-packages\\gym\\wrappers\\order_enforcing.py:37\u001B[0m, in \u001B[0;36mOrderEnforcing.step\u001B[1;34m(self, action)\u001B[0m\n\u001B[0;32m     35\u001B[0m \u001B[38;5;28;01mif\u001B[39;00m \u001B[38;5;129;01mnot\u001B[39;00m \u001B[38;5;28mself\u001B[39m\u001B[38;5;241m.\u001B[39m_has_reset:\n\u001B[0;32m     36\u001B[0m     \u001B[38;5;28;01mraise\u001B[39;00m ResetNeeded(\u001B[38;5;124m\"\u001B[39m\u001B[38;5;124mCannot call env.step() before calling env.reset()\u001B[39m\u001B[38;5;124m\"\u001B[39m)\n\u001B[1;32m---> 37\u001B[0m \u001B[38;5;28;01mreturn\u001B[39;00m \u001B[38;5;28;43mself\u001B[39;49m\u001B[38;5;241;43m.\u001B[39;49m\u001B[43menv\u001B[49m\u001B[38;5;241;43m.\u001B[39;49m\u001B[43mstep\u001B[49m\u001B[43m(\u001B[49m\u001B[43maction\u001B[49m\u001B[43m)\u001B[49m\n",
      "File \u001B[1;32m~\\miniconda3\\envs\\mario\\lib\\site-packages\\gym\\wrappers\\env_checker.py:41\u001B[0m, in \u001B[0;36mPassiveEnvChecker.step\u001B[1;34m(self, action)\u001B[0m\n\u001B[0;32m     39\u001B[0m     \u001B[38;5;28;01mreturn\u001B[39;00m passive_env_step_check(\u001B[38;5;28mself\u001B[39m\u001B[38;5;241m.\u001B[39menv, action)\n\u001B[0;32m     40\u001B[0m \u001B[38;5;28;01melse\u001B[39;00m:\n\u001B[1;32m---> 41\u001B[0m     \u001B[38;5;28;01mreturn\u001B[39;00m \u001B[38;5;28;43mself\u001B[39;49m\u001B[38;5;241;43m.\u001B[39;49m\u001B[43menv\u001B[49m\u001B[38;5;241;43m.\u001B[39;49m\u001B[43mstep\u001B[49m\u001B[43m(\u001B[49m\u001B[43maction\u001B[49m\u001B[43m)\u001B[49m\n",
      "File \u001B[1;32m~\\miniconda3\\envs\\mario\\lib\\site-packages\\nes_py\\nes_env.py:300\u001B[0m, in \u001B[0;36mNESEnv.step\u001B[1;34m(self, action)\u001B[0m\n\u001B[0;32m    298\u001B[0m \u001B[38;5;28mself\u001B[39m\u001B[38;5;241m.\u001B[39mcontrollers[\u001B[38;5;241m0\u001B[39m][:] \u001B[38;5;241m=\u001B[39m action\n\u001B[0;32m    299\u001B[0m \u001B[38;5;66;03m# pass the action to the emulator as an unsigned byte\u001B[39;00m\n\u001B[1;32m--> 300\u001B[0m \u001B[43m_LIB\u001B[49m\u001B[38;5;241;43m.\u001B[39;49m\u001B[43mStep\u001B[49m\u001B[43m(\u001B[49m\u001B[38;5;28;43mself\u001B[39;49m\u001B[38;5;241;43m.\u001B[39;49m\u001B[43m_env\u001B[49m\u001B[43m)\u001B[49m\n\u001B[0;32m    301\u001B[0m \u001B[38;5;66;03m# get the reward for this step\u001B[39;00m\n\u001B[0;32m    302\u001B[0m reward \u001B[38;5;241m=\u001B[39m \u001B[38;5;28mfloat\u001B[39m(\u001B[38;5;28mself\u001B[39m\u001B[38;5;241m.\u001B[39m_get_reward())\n",
      "\u001B[1;31mKeyboardInterrupt\u001B[0m: "
     ]
    }
   ]
  }
 ],
 "metadata": {
  "accelerator": "GPU",
  "colab": {
   "provenance": [
    {
     "file_id": "1DjgoJPE0IIPGf_t0f9Trgrpz4wRMPIJt",
     "timestamp": 1745688511642
    }
   ],
   "toc_visible": true
  },
  "kernelspec": {
   "display_name": "Python 3",
   "name": "python3"
  },
  "language_info": {
   "name": "python"
  }
 },
 "nbformat": 4,
 "nbformat_minor": 0
}
