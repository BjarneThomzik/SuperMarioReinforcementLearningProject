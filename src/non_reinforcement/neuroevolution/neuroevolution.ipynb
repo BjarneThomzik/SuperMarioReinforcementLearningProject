{
 "cells": [
  {
   "metadata": {},
   "cell_type": "markdown",
   "source": [
    "### Neuroevolution:\n",
    "- Bild -> preprocessing -> CNN -> MLP -> Eingabe (NES controller)\n",
    "- CNN und MLP basieren auf pytorch\n",
    "- CNN und MLP werden gemeinsam mutiert, die mutation vom agenten der am weitesten kam wird übernommen\n",
    "- Distanz vom Start wird (fürs erste) der einzige reward sein"
   ],
   "id": "9401e06fe8763420"
  }
 ],
 "metadata": {
  "kernelspec": {
   "display_name": "Python 3",
   "language": "python",
   "name": "python3"
  },
  "language_info": {
   "codemirror_mode": {
    "name": "ipython",
    "version": 2
   },
   "file_extension": ".py",
   "mimetype": "text/x-python",
   "name": "python",
   "nbconvert_exporter": "python",
   "pygments_lexer": "ipython2",
   "version": "2.7.6"
  }
 },
 "nbformat": 4,
 "nbformat_minor": 5
}
